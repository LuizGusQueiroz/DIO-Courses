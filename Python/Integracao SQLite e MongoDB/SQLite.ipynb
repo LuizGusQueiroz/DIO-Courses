{
  "nbformat": 4,
  "nbformat_minor": 0,
  "metadata": {
    "colab": {
      "provenance": [],
      "authorship_tag": "ABX9TyMBXOEAebYVTxpayr4Fz+n9"
    },
    "kernelspec": {
      "name": "python3",
      "display_name": "Python 3"
    },
    "language_info": {
      "name": "python"
    }
  },
  "cells": [
    {
      "cell_type": "markdown",
      "source": [
        "# Configuração do Ambiente"
      ],
      "metadata": {
        "id": "2PTj1HfpNxuV"
      }
    },
    {
      "cell_type": "code",
      "execution_count": 1,
      "metadata": {
        "id": "r_hbPBvc-dgi"
      },
      "outputs": [],
      "source": [
        "try:\n",
        "  from sqlalchemy import ForeignKey, select, Column, Integer, Float, String, create_engine, func\n",
        "  from sqlalchemy.ext.declarative import declarative_base\n",
        "  from sqlalchemy.orm import sessionmaker, relationship\n",
        "except:\n",
        "  !pip install sqlalchemy\n",
        "  from sqlalchemy import ForeignKey, select, Column, Integer, Float, String, create_engine, func\n",
        "  from sqlalchemy.ext.declarative import declarative_base\n",
        "  from sqlalchemy.orm import sessionmaker, relationship"
      ]
    },
    {
      "cell_type": "code",
      "source": [
        "Base = declarative_base()"
      ],
      "metadata": {
        "colab": {
          "base_uri": "https://localhost:8080/"
        },
        "id": "o0Sj4rLS_X7C",
        "outputId": "33783821-05ac-4e2b-eb30-b516ff16458a"
      },
      "execution_count": 2,
      "outputs": [
        {
          "output_type": "stream",
          "name": "stderr",
          "text": [
            "<ipython-input-2-9bae6e3862ba>:1: MovedIn20Warning: The ``declarative_base()`` function is now available as sqlalchemy.orm.declarative_base(). (deprecated since: 2.0) (Background on SQLAlchemy 2.0 at: https://sqlalche.me/e/b8d9)\n",
            "  Base = declarative_base()\n"
          ]
        }
      ]
    },
    {
      "cell_type": "markdown",
      "source": [
        "# Criação das tabelas"
      ],
      "metadata": {
        "id": "tYl9ulgMN9s-"
      }
    },
    {
      "cell_type": "code",
      "source": [
        "class Client(Base):\n",
        "    __tablename__ = 'client'\n",
        "    # Atributos\n",
        "    id = Column(Integer, primary_key=True)\n",
        "    name = Column(String)\n",
        "    cpf = Column(String(11), unique=True)\n",
        "    address = Column(String)\n",
        "    # Relacionamentos\n",
        "    accounts = relationship(\"Account\", back_populates=\"client\")\n",
        "\n",
        "    def __repr__(self):\n",
        "      return f'User(id={self.id}, name={self.name}, cpf={self.cpf}, address={self.address})'"
      ],
      "metadata": {
        "id": "CEeoZbrjAapH"
      },
      "execution_count": 3,
      "outputs": []
    },
    {
      "cell_type": "code",
      "source": [
        "class Account(Base):\n",
        "  __tablename__ = 'account'\n",
        "  # Atributos\n",
        "  id = Column(Integer, primary_key=True)\n",
        "  kind = Column(String)\n",
        "  agency = Column(String)\n",
        "  num = Column(Integer, unique=True)\n",
        "  saldo = Column(Float)\n",
        "  client_id = Column(Integer, ForeignKey('client.id'))\n",
        "  # Relacionamentos\n",
        "  client = relationship(\"Client\", back_populates=\"accounts\")\n",
        "\n",
        "  def __repr__(self):\n",
        "    return f'Account(id={self.id}, kind={self.kind}, agency={self.agency}, num={self.num}, saldo={self.saldo})'"
      ],
      "metadata": {
        "id": "PJar7QAWBf-M"
      },
      "execution_count": 4,
      "outputs": []
    },
    {
      "cell_type": "markdown",
      "source": [
        "# Configurando conexão"
      ],
      "metadata": {
        "id": "_CLCKtUIODCt"
      }
    },
    {
      "cell_type": "code",
      "source": [
        "engine = create_engine('sqlite://')"
      ],
      "metadata": {
        "id": "eh4-iFkuFdaF"
      },
      "execution_count": 5,
      "outputs": []
    },
    {
      "cell_type": "code",
      "source": [
        "Base.metadata.create_all(engine)"
      ],
      "metadata": {
        "id": "awqHtKgCE7gO"
      },
      "execution_count": 6,
      "outputs": []
    },
    {
      "cell_type": "markdown",
      "source": [
        "# Povoamento das tabelas"
      ],
      "metadata": {
        "id": "W_CqQ3F5OM7K"
      }
    },
    {
      "cell_type": "code",
      "source": [
        "Session = sessionmaker(bind=engine)\n",
        "\n",
        "# Cria uma instância da sessão\n",
        "with Session() as session:\n",
        "\n",
        "    cliente = Client(\n",
        "        name='Luiz',\n",
        "        cpf='01295372351',\n",
        "        address='rua x, num 25'\n",
        "    )\n",
        "    session.add(cliente)\n",
        "\n",
        "    conta = Account(\n",
        "        kind='Conta Corrente',\n",
        "        agency='001',\n",
        "        num=12345,\n",
        "        saldo=540.99,\n",
        "        client=cliente\n",
        "    )\n",
        "    session.add(conta)\n",
        "\n",
        "    cliente = Client(\n",
        "        name='Gustavo',\n",
        "        cpf='01957193401',\n",
        "        address='rua y, num 12A'\n",
        "    )\n",
        "    session.add(cliente)\n",
        "\n",
        "    conta = Account(\n",
        "        kind='Conta Poupança',\n",
        "        agency='001',\n",
        "        num=23121,\n",
        "        saldo=1300.55,\n",
        "        client=cliente\n",
        "    )\n",
        "    session.add(conta)\n",
        "\n",
        "    conta = Account(\n",
        "        kind='Conta Corrente',\n",
        "        agency='001',\n",
        "        num=23122,\n",
        "        saldo=2000.51,\n",
        "        client=cliente\n",
        "    )\n",
        "    session.add(conta)\n",
        "\n",
        "    cliente = Client(\n",
        "        name='Alan',\n",
        "        cpf='91849185612',\n",
        "        address='rua z, num 235'\n",
        "    )\n",
        "    session.add(cliente)\n",
        "\n",
        "    conta = Account(\n",
        "        kind='Conta Poupança',\n",
        "        agency='001',\n",
        "        num=12000,\n",
        "        saldo=2015.50,\n",
        "        client=cliente\n",
        "    )\n",
        "    session.add(conta)\n",
        "\n",
        "    cliente = Client(\n",
        "        name='Luiz',\n",
        "        cpf='91751095422',\n",
        "        address='rua w, num 33'\n",
        "    )\n",
        "    session.add(cliente)\n",
        "\n",
        "    conta = Account(\n",
        "        kind='Conta Poupança',\n",
        "        agency='002',\n",
        "        num=11551,\n",
        "        saldo=8511.25,\n",
        "        client=cliente\n",
        "    )\n",
        "    session.add(conta)\n",
        "\n",
        "    conta = Account(\n",
        "        kind='Conta Corrente',\n",
        "        agency='002',\n",
        "        num=18412,\n",
        "        saldo=2015.92,\n",
        "        client=cliente\n",
        "    )\n",
        "    session.add(conta)\n",
        "\n",
        "\n",
        "    session.commit()"
      ],
      "metadata": {
        "id": "kCsec13gLuke"
      },
      "execution_count": 7,
      "outputs": []
    },
    {
      "cell_type": "markdown",
      "source": [
        "# Consultas"
      ],
      "metadata": {
        "id": "mJ7nzwIsOO-5"
      }
    },
    {
      "cell_type": "code",
      "source": [
        "stmt = select(Client).where(Client.name.in_(['Luiz']))\n",
        "\n",
        "print('Clientes com nome \"Luiz\":\\n')\n",
        "\n",
        "for user in session.scalars(stmt):\n",
        "  print(user)"
      ],
      "metadata": {
        "colab": {
          "base_uri": "https://localhost:8080/"
        },
        "id": "mfOLYf_rL7YG",
        "outputId": "47dd479c-187d-4a8b-ecad-b224c06f6c39"
      },
      "execution_count": 8,
      "outputs": [
        {
          "output_type": "stream",
          "name": "stdout",
          "text": [
            "Clientes com nome \"Luiz\":\n",
            "\n",
            "User(id=1, name=Luiz, cpf=01295372351, address=rua x, num 25)\n",
            "User(id=4, name=Luiz, cpf=91751095422, address=rua w, num 33)\n"
          ]
        }
      ]
    },
    {
      "cell_type": "code",
      "source": [
        "stmt = select(Client).order_by(Client.name.asc())\n",
        "\n",
        "print('Registros ordenados pelo nome:\\n')\n",
        "\n",
        "for user in session.scalars(stmt):\n",
        "  print(user)"
      ],
      "metadata": {
        "colab": {
          "base_uri": "https://localhost:8080/"
        },
        "id": "42k5FaBGNjaQ",
        "outputId": "d6bc5d7b-a65c-4307-e197-811971578244"
      },
      "execution_count": 9,
      "outputs": [
        {
          "output_type": "stream",
          "name": "stdout",
          "text": [
            "Registros ordenados pelo nome:\n",
            "\n",
            "User(id=3, name=Alan, cpf=91849185612, address=rua z, num 235)\n",
            "User(id=2, name=Gustavo, cpf=01957193401, address=rua y, num 12A)\n",
            "User(id=1, name=Luiz, cpf=01295372351, address=rua x, num 25)\n",
            "User(id=4, name=Luiz, cpf=91751095422, address=rua w, num 33)\n"
          ]
        }
      ]
    },
    {
      "cell_type": "code",
      "source": [
        "stmt_join = select(Client.name, Account.kind, Account.num, Account.saldo).join_from(Client, Account)\n",
        "\n",
        "print('Junção das tabelas:\\n')\n",
        "\n",
        "for result in session.execute(stmt_join):\n",
        "  print(result)"
      ],
      "metadata": {
        "colab": {
          "base_uri": "https://localhost:8080/"
        },
        "id": "jDn8gvZhbQag",
        "outputId": "f021f11e-9041-4653-b109-c213f6649b57"
      },
      "execution_count": 10,
      "outputs": [
        {
          "output_type": "stream",
          "name": "stdout",
          "text": [
            "Junção das tabelas:\n",
            "\n",
            "('Luiz', 'Conta Corrente', 12345, 540.99)\n",
            "('Gustavo', 'Conta Poupança', 23121, 1300.55)\n",
            "('Gustavo', 'Conta Corrente', 23122, 2000.51)\n",
            "('Alan', 'Conta Poupança', 12000, 2015.5)\n",
            "('Luiz', 'Conta Poupança', 11551, 8511.25)\n",
            "('Luiz', 'Conta Corrente', 18412, 2015.92)\n"
          ]
        }
      ]
    },
    {
      "cell_type": "code",
      "source": [
        "stmt_count = select(func.count('*')).select_from(Client)\n",
        "\n",
        "print('Total de contas: ', end='')\n",
        "\n",
        "for result in session.scalars(stmt_count):\n",
        "  print(result)"
      ],
      "metadata": {
        "colab": {
          "base_uri": "https://localhost:8080/"
        },
        "id": "ISci6oGQMmmO",
        "outputId": "e68f047d-7c13-4a1a-de04-554bffe9610e"
      },
      "execution_count": 11,
      "outputs": [
        {
          "output_type": "stream",
          "name": "stdout",
          "text": [
            "Total de contas: 4\n"
          ]
        }
      ]
    },
    {
      "cell_type": "markdown",
      "source": [
        "# Encerramento da conexão"
      ],
      "metadata": {
        "id": "9nTykLBWOQdJ"
      }
    },
    {
      "cell_type": "code",
      "source": [
        "session.close()"
      ],
      "metadata": {
        "id": "w-UpF-kPNjY0"
      },
      "execution_count": 12,
      "outputs": []
    }
  ]
}