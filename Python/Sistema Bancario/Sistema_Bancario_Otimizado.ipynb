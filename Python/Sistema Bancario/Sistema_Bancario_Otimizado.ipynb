{
  "nbformat": 4,
  "nbformat_minor": 0,
  "metadata": {
    "colab": {
      "provenance": [],
      "authorship_tag": "ABX9TyPTqMkZEIj7hpClmbdwy2HN"
    },
    "kernelspec": {
      "name": "python3",
      "display_name": "Python 3"
    },
    "language_info": {
      "name": "python"
    }
  },
  "cells": [
    {
      "cell_type": "code",
      "source": [
        "def sacar(saldo, valor, extrato, num_saques, lim_saques):\n",
        "\n",
        "  if num_saques == lim_saques:\n",
        "\n",
        "      print('Limite de saques atingido: Vocẽ já antigiu o limite de saques.')\n",
        "\n",
        "  else:\n",
        "      try:\n",
        "          valor = float()\n",
        "\n",
        "          if valor <= 0:\n",
        "\n",
        "              print('O valor de saque precisa ser positivo!')\n",
        "              return\n",
        "\n",
        "          elif valor > 500:\n",
        "\n",
        "              print('O valor máximo de saque é de R$ 500.00.')\n",
        "              return\n",
        "\n",
        "          elif valor > saldo:\n",
        "\n",
        "              print('Saldo insuficiente para saque!')\n",
        "              print(f'Saldo atual: {saldo:.2f}')\n",
        "              return\n",
        "\n",
        "          else:\n",
        "\n",
        "              saldo -= valor\n",
        "              extrato += f'Saque: R$ {valor:.2f}\\n'\n",
        "              num_saques += 1\n",
        "              print('Saque realizado com sucesso!')\n",
        "              print(f'Saldo atual: R$ {saldo:.2f}')\n",
        "\n",
        "      except:\n",
        "          print('O valor do saque precisa ser numérico!')\n",
        "\n",
        "  return saldo, extrato, num_saques"
      ],
      "metadata": {
        "id": "8ISZ6wnt1xt-"
      },
      "execution_count": 14,
      "outputs": []
    },
    {
      "cell_type": "code",
      "source": [
        "def depositar(saldo, valor, extrato, /):\n",
        "  try:\n",
        "\n",
        "    valor = float(valor)\n",
        "\n",
        "    if valor <= 0:\n",
        "\n",
        "        print('O valor de depósito precisa ser positivo!')\n",
        "\n",
        "    else:\n",
        "\n",
        "        saldo += valor\n",
        "        extrato += f'Depósito: R$ {valor:.2f}\\n'\n",
        "        print('Depósito realizado com sucesso')\n",
        "        print(f'Saldo atual: R$ {saldo:.2f}')\n",
        "\n",
        "  except:\n",
        "    print('O valor do depósito precisa ser numérico!')\n",
        "\n",
        "  finally:\n",
        "    return saldo, extrato"
      ],
      "metadata": {
        "id": "z6JPpLnb1zDG"
      },
      "execution_count": 15,
      "outputs": []
    },
    {
      "cell_type": "code",
      "source": [
        "def ver_extrato(saldo, /, *, extrato):\n",
        "\n",
        "  print('=====================')\n",
        "  if extrato:\n",
        "    print(extrato)\n",
        "    print(f'Saldo: {saldo}')\n",
        "  else:\n",
        "    print('Não foram realizadas movimentações!')\n",
        "  print('=====================')"
      ],
      "metadata": {
        "id": "Ie2iLDBa102G"
      },
      "execution_count": 16,
      "outputs": []
    },
    {
      "cell_type": "code",
      "source": [
        "def cadastrar_usuario(usuarios):\n",
        "\n",
        "  nome =input('Digite o nome do usuário: ')\n",
        "  nasc = input('Digite a data de nascimento do usuário: ')\n",
        "  cpf = input('Digite o CPF do usuário(somente números): ')\n",
        "\n",
        "  print('Digite o endereço:')\n",
        "  logradouro = input('Logradouro: ')\n",
        "  numero     = input('Número: ')\n",
        "  bairro     = input('Bairro: ')\n",
        "  cidade     = input('Cidade: ')\n",
        "  estado     = input('Sigla estado: ')\n",
        "\n",
        "  endereco = f'{logradouro}, {numero} - {bairro} - {cidade}/{estado}'\n",
        "\n",
        "  usuario = {\n",
        "      'nome':nome,\n",
        "      'nasc':nasc,\n",
        "      'CPF':cpf,\n",
        "      'endereço': endereco\n",
        "  }\n",
        "\n",
        "  for user in usuarios:\n",
        "    if user['CPF'] == cpf:\n",
        "      print('CPF já cadastrado!')\n",
        "      return usuarios\n",
        "\n",
        "  usuarios.append(usuario)\n",
        "  print('Usuário cadastrado com sucesso!')\n",
        "\n",
        "  return usuarios"
      ],
      "metadata": {
        "id": "DvPgPMKMkOX5"
      },
      "execution_count": 17,
      "outputs": []
    },
    {
      "cell_type": "code",
      "source": [
        "def criar_conta(agencia, num_conta, usuarios, contas):\n",
        "\n",
        "  cpf_usuario = input('Digite o CPF do usuário dono da conta: ')\n",
        "\n",
        "  usuario = dict()\n",
        "\n",
        "  for user in usuarios:\n",
        "    if user['CPF'] == cpf_usuario:\n",
        "      usuario = user\n",
        "      break\n",
        "\n",
        "  if usuario:\n",
        "\n",
        "    conta = {\n",
        "        'Agência': agencia,\n",
        "        'Num_conta': num_conta,\n",
        "        'Usuário': usuario\n",
        "    }\n",
        "\n",
        "    contas.append(conta)\n",
        "    num_conta += 1\n",
        "\n",
        "    print('Conta criada com sucesso!')\n",
        "\n",
        "    return num_conta, contas\n",
        "\n",
        "  else:\n",
        "    print('CPF não encontrado!')\n",
        "    return num_conta, contas"
      ],
      "metadata": {
        "id": "Lt_pNpNrGmdD"
      },
      "execution_count": 18,
      "outputs": []
    },
    {
      "cell_type": "code",
      "execution_count": 19,
      "metadata": {
        "id": "eiqIbSRwg7EA"
      },
      "outputs": [],
      "source": [
        "def main():\n",
        "\n",
        "  menu = '''\n",
        "\n",
        "  [d] Depositar\n",
        "  [s] Sacar\n",
        "  [e] Extrato\n",
        "  [u] Novo usuário\n",
        "  [c] Nova conta\n",
        "  [q] Sair\n",
        "\n",
        "  =>'''\n",
        "\n",
        "  saldo = 0\n",
        "  limite = 500\n",
        "  extrato = ''\n",
        "  numero_saques = 0\n",
        "  LIMITE_SAQUES = 3\n",
        "  AGENCIA = '0001'\n",
        "  num_conta = 1\n",
        "  usuarios = list()\n",
        "  contas = list()\n",
        "\n",
        "  while True:\n",
        "\n",
        "    opcao = input(menu)\n",
        "\n",
        "    if   opcao == 'd':\n",
        "\n",
        "      valor = input('Digite o valor que deseja depositar: ')\n",
        "\n",
        "      saldo, extrato = depositar(saldo, valor, extrato)\n",
        "\n",
        "    elif opcao == 's':\n",
        "\n",
        "      valor = input('Digite o valor que deseja sacar: ')\n",
        "\n",
        "      saldo, extrato, numero_saques = sacar(saldo=saldo, valor=valor, extrato=extrato, num_saques=numero_saques, lim_saques=LIMITE_SAQUES)\n",
        "\n",
        "    elif opcao == 'e':\n",
        "\n",
        "      ver_extrato(saldo, extrato=extrato)\n",
        "\n",
        "    elif opcao == 'u':\n",
        "\n",
        "      usuarios = cadastrar_usuario(usuarios)\n",
        "\n",
        "    elif opcao == 'c':\n",
        "\n",
        "      num_conta, contas = criar_conta(AGENCIA, num_conta, usuarios, contas)\n",
        "\n",
        "    elif opcao == 'q':\n",
        "\n",
        "        break\n",
        "\n",
        "    else:\n",
        "\n",
        "        print('Operação inválida, por favor selecione novamente a operação desejada.')"
      ]
    },
    {
      "cell_type": "code",
      "source": [
        "main()"
      ],
      "metadata": {
        "id": "rMv5D3yULdYB"
      },
      "execution_count": 19,
      "outputs": []
    }
  ]
}