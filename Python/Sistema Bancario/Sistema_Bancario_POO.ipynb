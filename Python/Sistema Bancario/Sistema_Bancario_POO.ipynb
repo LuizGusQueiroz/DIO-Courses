{
  "nbformat": 4,
  "nbformat_minor": 0,
  "metadata": {
    "colab": {
      "provenance": [],
      "authorship_tag": "ABX9TyNZHU7lWHDy1uGuKSI+bK88"
    },
    "kernelspec": {
      "name": "python3",
      "display_name": "Python 3"
    },
    "language_info": {
      "name": "python"
    }
  },
  "cells": [
    {
      "cell_type": "code",
      "source": [
        "from abc import ABC, abstractmethod"
      ],
      "metadata": {
        "id": "QV4HIMqTflC8"
      },
      "execution_count": 1,
      "outputs": []
    },
    {
      "cell_type": "code",
      "source": [
        "class Cliente:\n",
        "\n",
        "  def __init__(self, endereco, contas):\n",
        "    self.endereco = endereco\n",
        "    self.contas = list()\n",
        "\n",
        "  def realizar_transacao(conta, transacao):\n",
        "    conta.historico.adicionar_transacao(transacao)\n",
        "\n",
        "  def adicionar_conta(self, conta):\n",
        "    self.contas.append(conta)"
      ],
      "metadata": {
        "id": "HQQFw0OMbT77"
      },
      "execution_count": 10,
      "outputs": []
    },
    {
      "cell_type": "code",
      "source": [
        "class PessoaFisica(Cliente):\n",
        "\n",
        "  def __init__(self, endereco, contas, cpf, nome, nasc):\n",
        "    super().__init__(endereco, contas)\n",
        "    self.cpf = cpf\n",
        "    self.nome = nome\n",
        "    self.nasc = nasc"
      ],
      "metadata": {
        "id": "LljT-Id2bT9P"
      },
      "execution_count": 9,
      "outputs": []
    },
    {
      "cell_type": "code",
      "source": [
        "class Transacao(ABC):\n",
        "\n",
        "  @abstractmethod\n",
        "  def registrar(conta):\n",
        "    pass"
      ],
      "metadata": {
        "id": "J3oq516WfdGA"
      },
      "execution_count": 11,
      "outputs": []
    },
    {
      "cell_type": "code",
      "source": [
        "class Deposito(Transacao):\n",
        "\n",
        "  def __init__(self, valor):\n",
        "    self.valor = valor\n",
        "\n",
        "  def registrar(self, conta):\n",
        "    return f'Depósito: {self.valor}\\n'"
      ],
      "metadata": {
        "id": "rrLiDrM0g8SM"
      },
      "execution_count": 12,
      "outputs": []
    },
    {
      "cell_type": "code",
      "source": [
        "class Saque(Transacao):\n",
        "\n",
        "  def __init__(self, valor):\n",
        "    self.valor = valor\n",
        "\n",
        "  def registrar(self, conta):\n",
        "    return f'Saque: {self.valor}\\n'"
      ],
      "metadata": {
        "id": "Wudrr_a6hEDy"
      },
      "execution_count": 13,
      "outputs": []
    },
    {
      "cell_type": "code",
      "source": [
        "class Historico:\n",
        "\n",
        "  def __init__(self):\n",
        "    self.historico = str()\n",
        "\n",
        "  def adicionar_transacao(self, transacao):\n",
        "    self.historico += transacao.registrar()"
      ],
      "metadata": {
        "id": "lOfCHEWjfLt-"
      },
      "execution_count": 5,
      "outputs": []
    },
    {
      "cell_type": "code",
      "execution_count": 4,
      "metadata": {
        "id": "E2f0ab5GRio5"
      },
      "outputs": [],
      "source": [
        "class Conta:\n",
        "\n",
        "  def __init__(self, numero, agencia, cliente):\n",
        "    self.saldo = 0\n",
        "    self.numero = numero\n",
        "    self.agencia = agencia\n",
        "    self.cliente = cliente\n",
        "    self.historico = Historico()\n",
        "\n",
        "  def saldo(self):\n",
        "    return self.saldo\n",
        "\n",
        "  def nova_conta(self, cliente, numero):\n",
        "\n",
        "    conta = Conta(numero, self.agencia, cliente)\n",
        "\n",
        "    return conta\n",
        "\n",
        "  def sacar(self, valor):\n",
        "\n",
        "    try:\n",
        "\n",
        "      valor = float(valor)\n",
        "      if valor < 0:\n",
        "\n",
        "        print('O valor de saque precisa ser positivo!')\n",
        "        return False\n",
        "\n",
        "      else:\n",
        "\n",
        "        if valor < self.saldo:\n",
        "\n",
        "          print('Saldo insuficiente!')\n",
        "          return False\n",
        "\n",
        "        else:\n",
        "\n",
        "          self.saldo -= valor\n",
        "          return True\n",
        "\n",
        "    except:\n",
        "\n",
        "      print('O valor de saque precisa ser numérico!')\n",
        "      return False\n",
        "\n",
        "\n",
        "  def depositar(self, valor):\n",
        "\n",
        "    try:\n",
        "\n",
        "      valor = float(valor)\n",
        "\n",
        "      if valor < 0:\n",
        "\n",
        "        print('O valor de depósito precisa ser positivo!')\n",
        "        return False\n",
        "\n",
        "      else:\n",
        "\n",
        "        self.saldo += valor\n",
        "        return True\n",
        "\n",
        "    except:\n",
        "\n",
        "      print('O valor de depósito precisa ser numérico!')\n",
        "      return False"
      ]
    },
    {
      "cell_type": "code",
      "source": [
        "class ContaCorrente(Conta):\n",
        "\n",
        "  def __init__(self, numero, agencia, cliente, limite, limite_saques):\n",
        "    super().__init__(numero, agencia, cliente)\n",
        "    self.limite = limite\n",
        "    self.limite_saques = limite_saques"
      ],
      "metadata": {
        "id": "emqSEA8ecv3G"
      },
      "execution_count": 14,
      "outputs": []
    }
  ]
}